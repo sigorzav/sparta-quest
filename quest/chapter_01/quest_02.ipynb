{
 "cells": [
  {
   "cell_type": "code",
   "execution_count": null,
   "metadata": {},
   "outputs": [
    {
     "name": "stdout",
     "output_type": "stream",
     "text": [
      "올바르지 않은 값입니다. 다시 입력하세요.\n",
      "올바르지 않은 값입니다. 다시 입력하세요.\n",
      "올바르지 않은 값입니다. 다시 입력하세요.\n",
      "올바르지 않은 값입니다. 다시 입력하세요.\n",
      "올바르지 않은 값입니다. 다시 입력하세요.\n"
     ]
    }
   ],
   "source": [
    "##################################################\n",
    "# 클래스와 함수 사용하기\n",
    "##################################################\n",
    "# 입력값 유효성 체크 함수\n",
    "# - input_type: 입출력 타입 (s: 문자, i: 숫자) -> type은 추가 가능\n",
    "# - msg: input 메세지\n",
    "# - choice_arr: 선택 옵션값 (optional)\n",
    "def input_data_valid(type, msg, choice_arr):\n",
    "    # 유효성 체크 여부 초기값\n",
    "    is_valid = False\n",
    "\n",
    "    while True:\n",
    "        data = input(msg).strip()\n",
    "        \n",
    "        # s: 문자\n",
    "        if type == \"s\" and data != \"\":\n",
    "            is_valid = True\n",
    "        # i: 숫자\n",
    "        else:\n",
    "            if data.isdigit():\n",
    "                data = int(data)\n",
    "                is_valid = True\n",
    "\n",
    "        # 선택 옵션값이 있는 경우 -> 포함되지 않는 경우 다시 False\n",
    "        if not (len(choice_arr) > 0 and data in choice_arr):\n",
    "            is_valid = False\n",
    "\n",
    "        # 유효성 체크가 성공한 경우\n",
    "        if is_valid:\n",
    "            return data\n",
    "        else:\n",
    "            print(\"올바르지 않은 값입니다. 다시 입력하세요.\")    \n",
    "\n",
    "class Person:\n",
    "    def __init__(self, name, gender, age):\n",
    "        self.name = name\n",
    "        self.gender = gender\n",
    "        self.age = age\n",
    "\n",
    "    # 입력값 출력 함수\n",
    "    def display(self):\n",
    "        print(f\"[이름]: {self.name} [성별]: {self.gender}\\n[나이]: {self.age}\")\n",
    "\n",
    "name = input_data_valid(\"s\", \"이름을 입력하세요: \", [])\n",
    "gender = \"\"\n",
    "#gender = input_data_valid(\"s\", \"성별(male/female)을 입력하세요: \", [\"male\", \"female\"])\n",
    "age = input_data_valid(\"i\", \"나이를 입력하세요: \", [])\n",
    "\n",
    "print(f\"[이름]: {name} [성별]: {gender}\\n[나이]: {age}\")\n",
    "\n",
    "\n",
    "#person = Person(name, gender, age)\n",
    "#person.display()"
   ]
  },
  {
   "cell_type": "code",
   "execution_count": null,
   "metadata": {},
   "outputs": [],
   "source": []
  }
 ],
 "metadata": {
  "kernelspec": {
   "display_name": "sparta-quest",
   "language": "python",
   "name": "python3"
  },
  "language_info": {
   "codemirror_mode": {
    "name": "ipython",
    "version": 3
   },
   "file_extension": ".py",
   "mimetype": "text/x-python",
   "name": "python",
   "nbconvert_exporter": "python",
   "pygments_lexer": "ipython3",
   "version": "3.13.0"
  }
 },
 "nbformat": 4,
 "nbformat_minor": 2
}
